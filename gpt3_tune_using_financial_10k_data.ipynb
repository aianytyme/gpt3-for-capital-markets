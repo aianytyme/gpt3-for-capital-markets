{
  "nbformat": 4,
  "nbformat_minor": 0,
  "metadata": {
    "colab": {
      "name": "gpt3_tune_using_financial_10k_data.ipynb",
      "provenance": [],
      "authorship_tag": "ABX9TyOwegaCURO/7+PFA8ll6vl9",
      "include_colab_link": true
    },
    "kernelspec": {
      "name": "python3",
      "display_name": "Python 3"
    },
    "language_info": {
      "name": "python"
    }
  },
  "cells": [
    {
      "cell_type": "markdown",
      "metadata": {
        "id": "view-in-github",
        "colab_type": "text"
      },
      "source": [
        "<a href=\"https://colab.research.google.com/github/aianytyme/gpt3-for-capital-markets/blob/main/gpt3_tune_using_financial_10k_data.ipynb\" target=\"_parent\"><img src=\"https://colab.research.google.com/assets/colab-badge.svg\" alt=\"Open In Colab\"/></a>"
      ]
    },
    {
      "cell_type": "markdown",
      "source": [
        "# **GPT3-Tune Using Financial 10K Data**\n",
        "\n",
        "1.   Setup\n",
        "2.   Load Data \n",
        "3.   Tune\n",
        "4.   Clean     "
      ],
      "metadata": {
        "id": "MxiX6vPFXZLg"
      }
    },
    {
      "cell_type": "markdown",
      "source": [
        "# Setup"
      ],
      "metadata": {
        "id": "MqujTAibXw_h"
      }
    },
    {
      "cell_type": "code",
      "source": [
        "!pip install python-dotenv\n",
        "!pip install --upgrade jsonlines\n",
        "!pip install --upgrade openai\n",
        "!pip install wandb"
      ],
      "metadata": {
        "colab": {
          "base_uri": "https://localhost:8080/"
        },
        "id": "_6qTsa80Xs5_",
        "outputId": "fd1edda2-5655-40e8-a05e-f717610c5f99"
      },
      "execution_count": 6,
      "outputs": [
        {
          "output_type": "stream",
          "name": "stdout",
          "text": [
            "Requirement already satisfied: python-dotenv in /usr/local/lib/python3.7/dist-packages (0.20.0)\n",
            "Requirement already satisfied: jsonlines in /usr/local/lib/python3.7/dist-packages (3.0.0)\n",
            "Requirement already satisfied: attrs>=19.2.0 in /usr/local/lib/python3.7/dist-packages (from jsonlines) (21.4.0)\n",
            "Requirement already satisfied: typing-extensions in /usr/local/lib/python3.7/dist-packages (from jsonlines) (4.2.0)\n",
            "Requirement already satisfied: openai in /usr/local/lib/python3.7/dist-packages (0.18.1)\n",
            "Requirement already satisfied: tqdm in /usr/local/lib/python3.7/dist-packages (from openai) (4.64.0)\n",
            "Requirement already satisfied: pandas>=1.2.3 in /usr/local/lib/python3.7/dist-packages (from openai) (1.3.5)\n",
            "Requirement already satisfied: pandas-stubs>=1.1.0.11 in /usr/local/lib/python3.7/dist-packages (from openai) (1.2.0.58)\n",
            "Requirement already satisfied: requests>=2.20 in /usr/local/lib/python3.7/dist-packages (from openai) (2.23.0)\n",
            "Requirement already satisfied: openpyxl>=3.0.7 in /usr/local/lib/python3.7/dist-packages (from openai) (3.0.9)\n",
            "Requirement already satisfied: et-xmlfile in /usr/local/lib/python3.7/dist-packages (from openpyxl>=3.0.7->openai) (1.1.0)\n",
            "Requirement already satisfied: pytz>=2017.3 in /usr/local/lib/python3.7/dist-packages (from pandas>=1.2.3->openai) (2022.1)\n",
            "Requirement already satisfied: python-dateutil>=2.7.3 in /usr/local/lib/python3.7/dist-packages (from pandas>=1.2.3->openai) (2.8.2)\n",
            "Requirement already satisfied: numpy>=1.17.3 in /usr/local/lib/python3.7/dist-packages (from pandas>=1.2.3->openai) (1.21.6)\n",
            "Requirement already satisfied: typing-extensions>=3.7.4.3 in /usr/local/lib/python3.7/dist-packages (from pandas-stubs>=1.1.0.11->openai) (4.2.0)\n",
            "Requirement already satisfied: six>=1.5 in /usr/local/lib/python3.7/dist-packages (from python-dateutil>=2.7.3->pandas>=1.2.3->openai) (1.15.0)\n",
            "Requirement already satisfied: chardet<4,>=3.0.2 in /usr/local/lib/python3.7/dist-packages (from requests>=2.20->openai) (3.0.4)\n",
            "Requirement already satisfied: certifi>=2017.4.17 in /usr/local/lib/python3.7/dist-packages (from requests>=2.20->openai) (2021.10.8)\n",
            "Requirement already satisfied: idna<3,>=2.5 in /usr/local/lib/python3.7/dist-packages (from requests>=2.20->openai) (2.10)\n",
            "Requirement already satisfied: urllib3!=1.25.0,!=1.25.1,<1.26,>=1.21.1 in /usr/local/lib/python3.7/dist-packages (from requests>=2.20->openai) (1.24.3)\n",
            "Collecting wandb\n",
            "  Downloading wandb-0.12.15-py2.py3-none-any.whl (1.8 MB)\n",
            "\u001b[K     |████████████████████████████████| 1.8 MB 5.2 MB/s \n",
            "\u001b[?25hCollecting sentry-sdk>=1.0.0\n",
            "  Downloading sentry_sdk-1.5.10-py2.py3-none-any.whl (144 kB)\n",
            "\u001b[K     |████████████████████████████████| 144 kB 51.6 MB/s \n",
            "\u001b[?25hRequirement already satisfied: PyYAML in /usr/local/lib/python3.7/dist-packages (from wandb) (3.13)\n",
            "Collecting GitPython>=1.0.0\n",
            "  Downloading GitPython-3.1.27-py3-none-any.whl (181 kB)\n",
            "\u001b[K     |████████████████████████████████| 181 kB 70.9 MB/s \n",
            "\u001b[?25hRequirement already satisfied: protobuf>=3.12.0 in /usr/local/lib/python3.7/dist-packages (from wandb) (3.17.3)\n",
            "Requirement already satisfied: six>=1.13.0 in /usr/local/lib/python3.7/dist-packages (from wandb) (1.15.0)\n",
            "Requirement already satisfied: requests<3,>=2.0.0 in /usr/local/lib/python3.7/dist-packages (from wandb) (2.23.0)\n",
            "Collecting pathtools\n",
            "  Downloading pathtools-0.1.2.tar.gz (11 kB)\n",
            "Collecting docker-pycreds>=0.4.0\n",
            "  Downloading docker_pycreds-0.4.0-py2.py3-none-any.whl (9.0 kB)\n",
            "Collecting shortuuid>=0.5.0\n",
            "  Downloading shortuuid-1.0.8-py3-none-any.whl (9.5 kB)\n",
            "Collecting setproctitle\n",
            "  Downloading setproctitle-1.2.3-cp37-cp37m-manylinux_2_5_x86_64.manylinux1_x86_64.manylinux_2_17_x86_64.manylinux2014_x86_64.whl (29 kB)\n",
            "Requirement already satisfied: psutil>=5.0.0 in /usr/local/lib/python3.7/dist-packages (from wandb) (5.4.8)\n",
            "Requirement already satisfied: python-dateutil>=2.6.1 in /usr/local/lib/python3.7/dist-packages (from wandb) (2.8.2)\n",
            "Requirement already satisfied: promise<3,>=2.0 in /usr/local/lib/python3.7/dist-packages (from wandb) (2.3)\n",
            "Requirement already satisfied: Click!=8.0.0,>=7.0 in /usr/local/lib/python3.7/dist-packages (from wandb) (7.1.2)\n",
            "Requirement already satisfied: typing-extensions>=3.7.4.3 in /usr/local/lib/python3.7/dist-packages (from GitPython>=1.0.0->wandb) (4.2.0)\n",
            "Collecting gitdb<5,>=4.0.1\n",
            "  Downloading gitdb-4.0.9-py3-none-any.whl (63 kB)\n",
            "\u001b[K     |████████████████████████████████| 63 kB 1.5 MB/s \n",
            "\u001b[?25hCollecting smmap<6,>=3.0.1\n",
            "  Downloading smmap-5.0.0-py3-none-any.whl (24 kB)\n",
            "Requirement already satisfied: idna<3,>=2.5 in /usr/local/lib/python3.7/dist-packages (from requests<3,>=2.0.0->wandb) (2.10)\n",
            "Requirement already satisfied: urllib3!=1.25.0,!=1.25.1,<1.26,>=1.21.1 in /usr/local/lib/python3.7/dist-packages (from requests<3,>=2.0.0->wandb) (1.24.3)\n",
            "Requirement already satisfied: chardet<4,>=3.0.2 in /usr/local/lib/python3.7/dist-packages (from requests<3,>=2.0.0->wandb) (3.0.4)\n",
            "Requirement already satisfied: certifi>=2017.4.17 in /usr/local/lib/python3.7/dist-packages (from requests<3,>=2.0.0->wandb) (2021.10.8)\n",
            "Building wheels for collected packages: pathtools\n",
            "  Building wheel for pathtools (setup.py) ... \u001b[?25l\u001b[?25hdone\n",
            "  Created wheel for pathtools: filename=pathtools-0.1.2-py3-none-any.whl size=8806 sha256=e273f36e2dcc0146fb09ad94ea998c59b23a90709cb747a50f77d866ab01bbe4\n",
            "  Stored in directory: /root/.cache/pip/wheels/3e/31/09/fa59cef12cdcfecc627b3d24273699f390e71828921b2cbba2\n",
            "Successfully built pathtools\n",
            "Installing collected packages: smmap, gitdb, shortuuid, setproctitle, sentry-sdk, pathtools, GitPython, docker-pycreds, wandb\n",
            "Successfully installed GitPython-3.1.27 docker-pycreds-0.4.0 gitdb-4.0.9 pathtools-0.1.2 sentry-sdk-1.5.10 setproctitle-1.2.3 shortuuid-1.0.8 smmap-5.0.0 wandb-0.12.15\n"
          ]
        }
      ]
    },
    {
      "cell_type": "code",
      "source": [
        "from google.colab import drive\n",
        "drive.mount('/content/drive/')\n",
        "PATH= r'/content/drive/MyDrive/Projects/GPT-3/'\n",
        "print(\"Path:{}\".format(PATH))"
      ],
      "metadata": {
        "colab": {
          "base_uri": "https://localhost:8080/"
        },
        "id": "WpB_I8etpo4V",
        "outputId": "ad511b20-8edf-457a-cc21-6143d27b68ab"
      },
      "execution_count": 7,
      "outputs": [
        {
          "output_type": "stream",
          "name": "stdout",
          "text": [
            "Drive already mounted at /content/drive/; to attempt to forcibly remount, call drive.mount(\"/content/drive/\", force_remount=True).\n",
            "Path:/content/drive/MyDrive/Projects/GPT-3/\n"
          ]
        }
      ]
    },
    {
      "cell_type": "code",
      "source": [
        "from os import environ\n",
        "from dotenv import load_dotenv\n",
        "load_dotenv(PATH+'.env')\n",
        "print(\"Env File to load:{}\".format(PATH+'.env'))"
      ],
      "metadata": {
        "colab": {
          "base_uri": "https://localhost:8080/"
        },
        "id": "q3dvNQRfpr_U",
        "outputId": "6cf9d867-6ef0-4f25-e1f7-f6a38fa420f5"
      },
      "execution_count": 8,
      "outputs": [
        {
          "output_type": "stream",
          "name": "stdout",
          "text": [
            "Env File to load:/content/drive/MyDrive/Projects/GPT-3/.env\n"
          ]
        }
      ]
    },
    {
      "cell_type": "markdown",
      "source": [
        "# Load SEC 10K Data"
      ],
      "metadata": {
        "id": "0LG4JB9-xVXA"
      }
    },
    {
      "cell_type": "code",
      "source": [
        "import os\n",
        "import json\n",
        "import jsonlines\n",
        "import pandas as pd"
      ],
      "metadata": {
        "id": "Fq7hA47x5x2k"
      },
      "execution_count": 16,
      "outputs": []
    },
    {
      "cell_type": "code",
      "source": [
        "file_to_load = PATH + 'data/salesforce.jsonl'\n",
        "print(\"file_to_load:{}\".format(file_to_load))\n",
        "\n",
        "#with open(file_to_load, 'r') as json_file:\n",
        "#  data = json.load(json_file)\n",
        "\n",
        "with open(file_to_load, 'r') as json_file:\n",
        "  for line in json_file:\n",
        "    print(line)\n",
        "\n",
        "#df = pd.DataFrame({'count': data})\n",
        "#df.head(10)\n"
      ],
      "metadata": {
        "colab": {
          "base_uri": "https://localhost:8080/"
        },
        "id": "LZg_N4MNpsso",
        "outputId": "da018df9-4dd4-416e-d796-5594c481c201"
      },
      "execution_count": 43,
      "outputs": [
        {
          "output_type": "stream",
          "name": "stdout",
          "text": [
            "file_to_load:/content/drive/MyDrive/Projects/GPT-3/data/salesforce.jsonl\n",
            "{\"prompt\": \"\", \"completion\": \"Company : SALESFORCE.COM, INC. : ITEM 1. BUSINESS  Overview: Salesforce is a global leader in customer relationship management  �CRM�  technology that brings companies and their customers together. With our Customer 360 platform, we deliver a single source of truth, connecting customer data across systems, apps and devices to help companies sell, service, market and conduct commerce from anywhere. Since its founding in 1999, Salesforce has pioneered innovations in cloud, mobile, social, analytics and artificial intelligence  �AI� , enabling companies of every size and industry to transform their businesses in the all-digital, work-from-anywhere era.  Our Customer 360 service offerings are designed to be flexible, scalable and easy to use. They can generally be configured easily, rapidly deployed and integrated with other platforms and enterprise applications. We sell to businesses worldwide, primarily on a subscription basis, through our direct sales efforts and also indirectly through partners. We also enable third parties to use our platform and developer tools to create additional functionality and new applications that run on our platform, which are sold separately from, or in conjunction with, our service offerings.  In addition to organic innovation, we add new capabilities to our Customer 360 platform through acquisitions. For example, in fiscal 2021, we acquired Vlocity, Inc.  �Vlocity� , an industry-specific cloud and mobile software solutions company. We also signed a definitive agreement to acquire Slack Technologies, Inc.  �Slack� , a leading channel-based messaging platform, which is expected to close in the second quarter of fiscal 2022.  Salesforce is committed to a core set of values  trust, customer success, innovation and equality. Foremost among these is trust, which is the foundation for everything we do. Our customers trust our technology to deliver the highest levels of security, privacy, performance, compliance and availability at scale. Customer success is at the core of our business and we align the entire company around our customers� needs to ensure their success and prove our value. We believe in continuous innovation, enabling our customers to access the latest technology advances so they can innovate, build and stay ahead in their industries. Finally, equality is a core tenet of how we run our business. We value the equality of every individual at our company and in our community. We believe that creating a diverse workplace that reflects the communities we serve and fostering an inclusive culture where everyone feels seen, heard and valued makes us a better company.  We believe that our values create value, and the business of business is to make the world a better place for all of our stakeholders, including stockholders, customers, employees, partners, the planet and the communities in which we work and live. Salesforce is committed to giving back to our communities, closing the inequality gap and helping businesses grow while protecting the environment for future generations. We believe we have a broad responsibility to society, and we aspire to create a framework for the ethical and humane use of technology that not only drives the success of our customers, but also upholds the basic human rights of every individual. We are committed to transparent environmental, social and governance disclosures and maintaining programs that support the success of these initiatives.  Our principal executive offices are located in San Francisco, California. Our principal address is Salesforce Tower, 415 Mission St, 3rd Floor, San Francisco, California 94105, and our primary website address is www.salesforce.com.  Our Service Offerings  Today, global challenges require businesses to digitally transform while leveraging customer data to become more responsive, resilient and efficient. We believe it has become imperative for companies across every industry to connect with their customers through digital channels.  Our industry-leading Customer 360 platform is an integrated, AI-powered CRM platform spanning sales, service, marketing, commerce and more. It allows our customers to unlock the value of their customer data across their businesses and quickly adapt to customer and employee needs in the all-digital, work-from-anywhere world. With Customer 360, our customers can take advantage of pervasive AI, analytics and collaboration capabilities, and industry-leading trust, security and availability with built-in compliance, integrated platform services and automatic upgrades. Our customers can select from the right mix of our solutions for any team, in any industry and for companies of any size, to get a single source of truth and complete view of their customers.  Customer 360 service offerings are designed to work together, and include   Sales. Sales empowers sales teams of companies of every size and industry to manage and automate their entire sales process from leads to opportunities to billing, allowing them to sell faster, smarter a\"}\n",
            "\n",
            "{\"prompt\": \"\", \"completion\": \"Company : SALESFORCE.COM, INC. : ITEM 10. DIRECTORS, EXECUTIVE OFFICERS AND CORPORATE GOVERNANCE  The information concerning our directors, our Audit Committee and any changes to the process by which stockholders may recommend nominees to the Board required by this Item are incorporated herein by reference to information contained in the Proxy Statement, including �Directors and Corporate Governance� and, as applicable, �Delinquent Section 16 a  Reports.�  The information concerning our executive officers required by this Item is incorporated by reference herein to the section of this Annual Report on Form 10-K in Part I, entitled �Information About Our Executive Officers.�  We have adopted a code of ethics, our Code of Conduct, which applies to all employees, including our principal executive officer, Marc Benioff, principal financial officer, Amy Weaver, principal accounting officer, Joe Allanson, and all other executive officers. The Code of Conduct is available on our website at http   investor.salesforce.com about-us investor corporate-governance . A copy may also be obtained without charge by contacting Investor Relations, salesforce.com, inc., Salesforce Tower, 415 Mission St, 3rd Fl, San Francisco, California 94105 or by calling  415  901-7000.  We plan to post on our website at the address described above future amendments and waivers of our Code of Conduct as permitted under applicable NYSE and SEC rules.\"}\n"
          ]
        }
      ]
    },
    {
      "cell_type": "markdown",
      "source": [
        "# Tune the OpenAI model"
      ],
      "metadata": {
        "id": "ZGmRDT1ey9aQ"
      }
    },
    {
      "cell_type": "markdown",
      "source": [
        "**Create a new model using the JSONL** "
      ],
      "metadata": {
        "id": "XRlemsbKLoEZ"
      }
    },
    {
      "cell_type": "code",
      "source": [
        "!openai api fine_tunes.create -t $file_to_load -m curie --suffix \"gpt3-for-capital-markets\""
      ],
      "metadata": {
        "colab": {
          "base_uri": "https://localhost:8080/"
        },
        "id": "Rl_V1REbzAgQ",
        "outputId": "5b1e8380-1d16-4ea6-d336-2c4e10b9c641"
      },
      "execution_count": 48,
      "outputs": [
        {
          "output_type": "stream",
          "name": "stdout",
          "text": [
            "Found potentially duplicated files with name 'salesforce.jsonl', purpose 'fine-tune' and size 6579 bytes\n",
            "file-pLl5AlroWYAAYTbIb06Rr6Rd\n",
            "Enter file ID to reuse an already uploaded file, or an empty string to upload this file anyway: file-pLl5AlroWYAAYTbIb06Rr6Rd\n",
            "Reusing already uploaded file: file-pLl5AlroWYAAYTbIb06Rr6Rd\n",
            "Created fine-tune: ft-wc5PX33YH1OqZ5Nfgqehotql\n",
            "Streaming events until fine-tuning is complete...\n",
            "\n",
            "(Ctrl-C will interrupt the stream, but not cancel the fine-tune)\n",
            "[2022-05-02 23:56:25] Created fine-tune: ft-wc5PX33YH1OqZ5Nfgqehotql\n",
            "[2022-05-02 23:56:28] Fine-tune costs $0.01\n",
            "[2022-05-02 23:56:29] Fine-tune enqueued. Queue number: 0\n",
            "[2022-05-02 23:56:33] Fine-tune started\n",
            "[2022-05-02 23:57:21] Completed epoch 1/4\n",
            "[2022-05-02 23:57:22] Completed epoch 2/4\n",
            "[2022-05-02 23:57:23] Completed epoch 3/4\n",
            "[2022-05-02 23:57:24] Completed epoch 4/4\n",
            "[2022-05-02 23:57:49] Uploaded model: curie:ft-the-orange-pencil:gpt3-for-capital-markets-2022-05-02-23-57-48\n",
            "[2022-05-02 23:57:52] Uploaded result file: file-2fjDxJAYtRC175a6W3JN7QqT\n",
            "[2022-05-02 23:57:52] Fine-tune succeeded\n",
            "\n",
            "Job complete! Status: succeeded 🎉\n",
            "Try out your fine-tuned model:\n",
            "\n",
            "openai api completions.create -m curie:ft-the-orange-pencil:gpt3-for-capital-markets-2022-05-02-23-57-48 -p <YOUR_PROMPT>\n"
          ]
        }
      ]
    },
    {
      "cell_type": "markdown",
      "source": [
        "**Test the new model**"
      ],
      "metadata": {
        "id": "qdUOIndqLsdg"
      }
    },
    {
      "cell_type": "code",
      "source": [
        "CUSTOM_GPT3_ENGINE='curie:ft-the-orange-pencil:gpt3-for-capital-markets-2022-05-02-23-57-48'\n",
        "!openai api completions.create -m $CUSTOM_GPT3_ENGINE -p \"Summarize this\\n\\n \""
      ],
      "metadata": {
        "colab": {
          "base_uri": "https://localhost:8080/",
          "height": 380
        },
        "id": "0LMexynM0IKG",
        "outputId": "0ea12fd4-18eb-4b8d-a9ea-e4d319435eb3"
      },
      "execution_count": 55,
      "outputs": [
        {
          "output_type": "error",
          "ename": "InvalidRequestError",
          "evalue": "ignored",
          "traceback": [
            "\u001b[0;31m---------------------------------------------------------------------------\u001b[0m",
            "\u001b[0;31mInvalidRequestError\u001b[0m                       Traceback (most recent call last)",
            "\u001b[0;32m<ipython-input-55-2d727313c03e>\u001b[0m in \u001b[0;36m<module>\u001b[0;34m()\u001b[0m\n\u001b[1;32m     11\u001b[0m   \u001b[0mtemperature\u001b[0m\u001b[0;34m=\u001b[0m\u001b[0;36m0.7\u001b[0m\u001b[0;34m,\u001b[0m\u001b[0;34m\u001b[0m\u001b[0;34m\u001b[0m\u001b[0m\n\u001b[1;32m     12\u001b[0m   \u001b[0mmax_tokens\u001b[0m\u001b[0;34m=\u001b[0m\u001b[0;36m64\u001b[0m\u001b[0;34m,\u001b[0m\u001b[0;34m\u001b[0m\u001b[0;34m\u001b[0m\u001b[0m\n\u001b[0;32m---> 13\u001b[0;31m   \u001b[0mtop_p\u001b[0m\u001b[0;34m=\u001b[0m\u001b[0;36m1.0\u001b[0m\u001b[0;34m\u001b[0m\u001b[0;34m\u001b[0m\u001b[0m\n\u001b[0m\u001b[1;32m     14\u001b[0m )\n\u001b[1;32m     15\u001b[0m \u001b[0;34m\u001b[0m\u001b[0m\n",
            "\u001b[0;32m/usr/local/lib/python3.7/dist-packages/openai/api_resources/completion.py\u001b[0m in \u001b[0;36mcreate\u001b[0;34m(cls, *args, **kwargs)\u001b[0m\n\u001b[1;32m     29\u001b[0m         \u001b[0;32mwhile\u001b[0m \u001b[0;32mTrue\u001b[0m\u001b[0;34m:\u001b[0m\u001b[0;34m\u001b[0m\u001b[0;34m\u001b[0m\u001b[0m\n\u001b[1;32m     30\u001b[0m             \u001b[0;32mtry\u001b[0m\u001b[0;34m:\u001b[0m\u001b[0;34m\u001b[0m\u001b[0;34m\u001b[0m\u001b[0m\n\u001b[0;32m---> 31\u001b[0;31m                 \u001b[0;32mreturn\u001b[0m \u001b[0msuper\u001b[0m\u001b[0;34m(\u001b[0m\u001b[0;34m)\u001b[0m\u001b[0;34m.\u001b[0m\u001b[0mcreate\u001b[0m\u001b[0;34m(\u001b[0m\u001b[0;34m*\u001b[0m\u001b[0margs\u001b[0m\u001b[0;34m,\u001b[0m \u001b[0;34m**\u001b[0m\u001b[0mkwargs\u001b[0m\u001b[0;34m)\u001b[0m\u001b[0;34m\u001b[0m\u001b[0;34m\u001b[0m\u001b[0m\n\u001b[0m\u001b[1;32m     32\u001b[0m             \u001b[0;32mexcept\u001b[0m \u001b[0mTryAgain\u001b[0m \u001b[0;32mas\u001b[0m \u001b[0me\u001b[0m\u001b[0;34m:\u001b[0m\u001b[0;34m\u001b[0m\u001b[0;34m\u001b[0m\u001b[0m\n\u001b[1;32m     33\u001b[0m                 \u001b[0;32mif\u001b[0m \u001b[0mtimeout\u001b[0m \u001b[0;32mis\u001b[0m \u001b[0;32mnot\u001b[0m \u001b[0;32mNone\u001b[0m \u001b[0;32mand\u001b[0m \u001b[0mtime\u001b[0m\u001b[0;34m.\u001b[0m\u001b[0mtime\u001b[0m\u001b[0;34m(\u001b[0m\u001b[0;34m)\u001b[0m \u001b[0;34m>\u001b[0m \u001b[0mstart\u001b[0m \u001b[0;34m+\u001b[0m \u001b[0mtimeout\u001b[0m\u001b[0;34m:\u001b[0m\u001b[0;34m\u001b[0m\u001b[0;34m\u001b[0m\u001b[0m\n",
            "\u001b[0;32m/usr/local/lib/python3.7/dist-packages/openai/api_resources/abstract/engine_api_resource.py\u001b[0m in \u001b[0;36mcreate\u001b[0;34m(cls, api_key, api_base, api_type, request_id, api_version, organization, **params)\u001b[0m\n\u001b[1;32m    104\u001b[0m             \u001b[0mheaders\u001b[0m\u001b[0;34m=\u001b[0m\u001b[0mheaders\u001b[0m\u001b[0;34m,\u001b[0m\u001b[0;34m\u001b[0m\u001b[0;34m\u001b[0m\u001b[0m\n\u001b[1;32m    105\u001b[0m             \u001b[0mstream\u001b[0m\u001b[0;34m=\u001b[0m\u001b[0mstream\u001b[0m\u001b[0;34m,\u001b[0m\u001b[0;34m\u001b[0m\u001b[0;34m\u001b[0m\u001b[0m\n\u001b[0;32m--> 106\u001b[0;31m             \u001b[0mrequest_id\u001b[0m\u001b[0;34m=\u001b[0m\u001b[0mrequest_id\u001b[0m\u001b[0;34m,\u001b[0m\u001b[0;34m\u001b[0m\u001b[0;34m\u001b[0m\u001b[0m\n\u001b[0m\u001b[1;32m    107\u001b[0m         )\n\u001b[1;32m    108\u001b[0m \u001b[0;34m\u001b[0m\u001b[0m\n",
            "\u001b[0;32m/usr/local/lib/python3.7/dist-packages/openai/api_requestor.py\u001b[0m in \u001b[0;36mrequest\u001b[0;34m(self, method, url, params, headers, files, stream, request_id)\u001b[0m\n\u001b[1;32m    118\u001b[0m             \u001b[0mrequest_id\u001b[0m\u001b[0;34m=\u001b[0m\u001b[0mrequest_id\u001b[0m\u001b[0;34m,\u001b[0m\u001b[0;34m\u001b[0m\u001b[0;34m\u001b[0m\u001b[0m\n\u001b[1;32m    119\u001b[0m         )\n\u001b[0;32m--> 120\u001b[0;31m         \u001b[0mresp\u001b[0m\u001b[0;34m,\u001b[0m \u001b[0mgot_stream\u001b[0m \u001b[0;34m=\u001b[0m \u001b[0mself\u001b[0m\u001b[0;34m.\u001b[0m\u001b[0m_interpret_response\u001b[0m\u001b[0;34m(\u001b[0m\u001b[0mresult\u001b[0m\u001b[0;34m,\u001b[0m \u001b[0mstream\u001b[0m\u001b[0;34m)\u001b[0m\u001b[0;34m\u001b[0m\u001b[0;34m\u001b[0m\u001b[0m\n\u001b[0m\u001b[1;32m    121\u001b[0m         \u001b[0;32mreturn\u001b[0m \u001b[0mresp\u001b[0m\u001b[0;34m,\u001b[0m \u001b[0mgot_stream\u001b[0m\u001b[0;34m,\u001b[0m \u001b[0mself\u001b[0m\u001b[0;34m.\u001b[0m\u001b[0mapi_key\u001b[0m\u001b[0;34m\u001b[0m\u001b[0;34m\u001b[0m\u001b[0m\n\u001b[1;32m    122\u001b[0m \u001b[0;34m\u001b[0m\u001b[0m\n",
            "\u001b[0;32m/usr/local/lib/python3.7/dist-packages/openai/api_requestor.py\u001b[0m in \u001b[0;36m_interpret_response\u001b[0;34m(self, result, stream)\u001b[0m\n\u001b[1;32m    326\u001b[0m             return (\n\u001b[1;32m    327\u001b[0m                 self._interpret_response_line(\n\u001b[0;32m--> 328\u001b[0;31m                     \u001b[0mresult\u001b[0m\u001b[0;34m.\u001b[0m\u001b[0mcontent\u001b[0m\u001b[0;34m,\u001b[0m \u001b[0mresult\u001b[0m\u001b[0;34m.\u001b[0m\u001b[0mstatus_code\u001b[0m\u001b[0;34m,\u001b[0m \u001b[0mresult\u001b[0m\u001b[0;34m.\u001b[0m\u001b[0mheaders\u001b[0m\u001b[0;34m,\u001b[0m \u001b[0mstream\u001b[0m\u001b[0;34m=\u001b[0m\u001b[0;32mFalse\u001b[0m\u001b[0;34m\u001b[0m\u001b[0;34m\u001b[0m\u001b[0m\n\u001b[0m\u001b[1;32m    329\u001b[0m                 ),\n\u001b[1;32m    330\u001b[0m                 \u001b[0;32mFalse\u001b[0m\u001b[0;34m,\u001b[0m\u001b[0;34m\u001b[0m\u001b[0;34m\u001b[0m\u001b[0m\n",
            "\u001b[0;32m/usr/local/lib/python3.7/dist-packages/openai/api_requestor.py\u001b[0m in \u001b[0;36m_interpret_response_line\u001b[0;34m(self, rbody, rcode, rheaders, stream)\u001b[0m\n\u001b[1;32m    359\u001b[0m         \u001b[0;32mif\u001b[0m \u001b[0mstream_error\u001b[0m \u001b[0;32mor\u001b[0m \u001b[0;32mnot\u001b[0m \u001b[0;36m200\u001b[0m \u001b[0;34m<=\u001b[0m \u001b[0mrcode\u001b[0m \u001b[0;34m<\u001b[0m \u001b[0;36m300\u001b[0m\u001b[0;34m:\u001b[0m\u001b[0;34m\u001b[0m\u001b[0;34m\u001b[0m\u001b[0m\n\u001b[1;32m    360\u001b[0m             raise self.handle_error_response(\n\u001b[0;32m--> 361\u001b[0;31m                 \u001b[0mrbody\u001b[0m\u001b[0;34m,\u001b[0m \u001b[0mrcode\u001b[0m\u001b[0;34m,\u001b[0m \u001b[0mresp\u001b[0m\u001b[0;34m.\u001b[0m\u001b[0mdata\u001b[0m\u001b[0;34m,\u001b[0m \u001b[0mrheaders\u001b[0m\u001b[0;34m,\u001b[0m \u001b[0mstream_error\u001b[0m\u001b[0;34m=\u001b[0m\u001b[0mstream_error\u001b[0m\u001b[0;34m\u001b[0m\u001b[0;34m\u001b[0m\u001b[0m\n\u001b[0m\u001b[1;32m    362\u001b[0m             )\n\u001b[1;32m    363\u001b[0m         \u001b[0;32mreturn\u001b[0m \u001b[0mresp\u001b[0m\u001b[0;34m\u001b[0m\u001b[0;34m\u001b[0m\u001b[0m\n",
            "\u001b[0;31mInvalidRequestError\u001b[0m: Engine not found"
          ]
        }
      ]
    },
    {
      "cell_type": "markdown",
      "source": [
        "**Analyze the fine-tuned model**"
      ],
      "metadata": {
        "id": "dAIQzE6_Lyum"
      }
    },
    {
      "cell_type": "code",
      "source": [
        "!echo $CUSTOM_GPT3_ENGINE\n",
        "!openai api fine_tunes.results -i $CUSTOM_GPT3_ENGINE"
      ],
      "metadata": {
        "colab": {
          "base_uri": "https://localhost:8080/"
        },
        "id": "uWGNuNhjL3Jx",
        "outputId": "e184d75d-39fd-494c-c2b5-c66d842e9f6f"
      },
      "execution_count": 46,
      "outputs": [
        {
          "output_type": "stream",
          "name": "stdout",
          "text": [
            "curie:ft-the-orange-pencil:gpt3-for-capital-markets-2022-05-02-23-21-07\n",
            "[organization=nomura-1] \u001b[91mError:\u001b[0m No fine-tune job: curie:ft-the-orange-pencil:gpt3-for-capital-markets-2022-05-02-23-21-07 (HTTP status code: 404)\n"
          ]
        }
      ]
    },
    {
      "cell_type": "code",
      "source": [
        "!openai api models.delete -i $CUSTOM_GPT3_ENGINE\n",
        "#!openai api models.delete -i curie:ft-the-orange-pencil:gpt3-for-capital-markets-2022-05-02-23-15-39"
      ],
      "metadata": {
        "colab": {
          "base_uri": "https://localhost:8080/"
        },
        "id": "XzKe1Bap0bt-",
        "outputId": "d4c5a78d-3597-4ea9-ab0c-2f951ca0a434"
      },
      "execution_count": 56,
      "outputs": [
        {
          "output_type": "stream",
          "name": "stdout",
          "text": [
            "{\n",
            "  \"deleted\": true,\n",
            "  \"id\": \"curie:ft-the-orange-pencil:gpt3-for-capital-markets-2022-05-02-23-15-39\",\n",
            "  \"object\": \"model\"\n",
            "}\n"
          ]
        }
      ]
    }
  ]
}