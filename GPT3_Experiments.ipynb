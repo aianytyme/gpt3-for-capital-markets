{
  "nbformat": 4,
  "nbformat_minor": 0,
  "metadata": {
    "colab": {
      "name": "GPT3-Experiments.ipynb",
      "provenance": [],
      "authorship_tag": "ABX9TyOTe7xnxS0L+fEerOOL+mM4",
      "include_colab_link": true
    },
    "kernelspec": {
      "name": "python3",
      "display_name": "Python 3"
    },
    "language_info": {
      "name": "python"
    }
  },
  "cells": [
    {
      "cell_type": "markdown",
      "metadata": {
        "id": "view-in-github",
        "colab_type": "text"
      },
      "source": [
        "<a href=\"https://colab.research.google.com/github/aianytyme/gpt3-for-capital-markets/blob/main/GPT3_Experiments.ipynb\" target=\"_parent\"><img src=\"https://colab.research.google.com/assets/colab-badge.svg\" alt=\"Open In Colab\"/></a>"
      ]
    },
    {
      "cell_type": "markdown",
      "source": [
        "# **GPT3-Experiments**\n",
        "\n",
        "\n",
        "1.   Setup\n",
        "2.   Experminent 1\n",
        "3.   Experiment 2"
      ],
      "metadata": {
        "id": "lFNCd_B5KtaZ"
      }
    },
    {
      "cell_type": "markdown",
      "source": [
        "# Setup #"
      ],
      "metadata": {
        "id": "HbnC4aClkehF"
      }
    },
    {
      "cell_type": "markdown",
      "source": [
        "**Install Libraries**"
      ],
      "metadata": {
        "id": "NYliQJwDq9Eh"
      }
    },
    {
      "cell_type": "code",
      "source": [
        "!pip install python-dotenv\n",
        "!pip install --upgrade jsonlines\n",
        "!pip install --upgrade openai"
      ],
      "metadata": {
        "colab": {
          "base_uri": "https://localhost:8080/"
        },
        "id": "saluXllukmHX",
        "outputId": "1496d2c1-cf9f-45f8-f449-d20ef39e6435"
      },
      "execution_count": 1,
      "outputs": [
        {
          "output_type": "stream",
          "name": "stdout",
          "text": [
            "Collecting python-dotenv\n",
            "  Downloading python_dotenv-0.20.0-py3-none-any.whl (17 kB)\n",
            "Installing collected packages: python-dotenv\n",
            "Successfully installed python-dotenv-0.20.0\n",
            "Collecting jsonlines\n",
            "  Downloading jsonlines-3.0.0-py3-none-any.whl (8.5 kB)\n",
            "Requirement already satisfied: typing-extensions in /usr/local/lib/python3.7/dist-packages (from jsonlines) (4.2.0)\n",
            "Requirement already satisfied: attrs>=19.2.0 in /usr/local/lib/python3.7/dist-packages (from jsonlines) (21.4.0)\n",
            "Installing collected packages: jsonlines\n",
            "Successfully installed jsonlines-3.0.0\n",
            "Collecting openai\n",
            "  Downloading openai-0.18.1.tar.gz (42 kB)\n",
            "\u001b[K     |████████████████████████████████| 42 kB 1.1 MB/s \n",
            "\u001b[?25h  Installing build dependencies ... \u001b[?25l\u001b[?25hdone\n",
            "  Getting requirements to build wheel ... \u001b[?25l\u001b[?25hdone\n",
            "    Preparing wheel metadata ... \u001b[?25l\u001b[?25hdone\n",
            "Requirement already satisfied: openpyxl>=3.0.7 in /usr/local/lib/python3.7/dist-packages (from openai) (3.0.9)\n",
            "Collecting pandas-stubs>=1.1.0.11\n",
            "  Downloading pandas_stubs-1.2.0.58-py3-none-any.whl (162 kB)\n",
            "\u001b[K     |████████████████████████████████| 162 kB 10.8 MB/s \n",
            "\u001b[?25hRequirement already satisfied: tqdm in /usr/local/lib/python3.7/dist-packages (from openai) (4.64.0)\n",
            "Requirement already satisfied: requests>=2.20 in /usr/local/lib/python3.7/dist-packages (from openai) (2.23.0)\n",
            "Requirement already satisfied: pandas>=1.2.3 in /usr/local/lib/python3.7/dist-packages (from openai) (1.3.5)\n",
            "Requirement already satisfied: et-xmlfile in /usr/local/lib/python3.7/dist-packages (from openpyxl>=3.0.7->openai) (1.1.0)\n",
            "Requirement already satisfied: python-dateutil>=2.7.3 in /usr/local/lib/python3.7/dist-packages (from pandas>=1.2.3->openai) (2.8.2)\n",
            "Requirement already satisfied: numpy>=1.17.3 in /usr/local/lib/python3.7/dist-packages (from pandas>=1.2.3->openai) (1.21.6)\n",
            "Requirement already satisfied: pytz>=2017.3 in /usr/local/lib/python3.7/dist-packages (from pandas>=1.2.3->openai) (2022.1)\n",
            "Requirement already satisfied: typing-extensions>=3.7.4.3 in /usr/local/lib/python3.7/dist-packages (from pandas-stubs>=1.1.0.11->openai) (4.2.0)\n",
            "Requirement already satisfied: six>=1.5 in /usr/local/lib/python3.7/dist-packages (from python-dateutil>=2.7.3->pandas>=1.2.3->openai) (1.15.0)\n",
            "Requirement already satisfied: urllib3!=1.25.0,!=1.25.1,<1.26,>=1.21.1 in /usr/local/lib/python3.7/dist-packages (from requests>=2.20->openai) (1.24.3)\n",
            "Requirement already satisfied: idna<3,>=2.5 in /usr/local/lib/python3.7/dist-packages (from requests>=2.20->openai) (2.10)\n",
            "Requirement already satisfied: certifi>=2017.4.17 in /usr/local/lib/python3.7/dist-packages (from requests>=2.20->openai) (2021.10.8)\n",
            "Requirement already satisfied: chardet<4,>=3.0.2 in /usr/local/lib/python3.7/dist-packages (from requests>=2.20->openai) (3.0.4)\n",
            "Building wheels for collected packages: openai\n",
            "  Building wheel for openai (PEP 517) ... \u001b[?25l\u001b[?25hdone\n",
            "  Created wheel for openai: filename=openai-0.18.1-py3-none-any.whl size=53168 sha256=03aca2552106a5c4173f5017daa3705f363076f3684b7fd318915209b2c69be3\n",
            "  Stored in directory: /root/.cache/pip/wheels/5a/bf/24/fcdc9d2b81f9c7e565bb2036ec9f7cc930056b829895b3bf48\n",
            "Successfully built openai\n",
            "Installing collected packages: pandas-stubs, openai\n",
            "Successfully installed openai-0.18.1 pandas-stubs-1.2.0.58\n"
          ]
        }
      ]
    },
    {
      "cell_type": "markdown",
      "source": [
        "**Mount Drive**"
      ],
      "metadata": {
        "id": "0rvvrGR5qqHz"
      }
    },
    {
      "cell_type": "code",
      "source": [
        "from google.colab import drive\n",
        "drive.mount('/content/drive/')\n",
        "PATH= r'/content/drive/MyDrive/Projects/GPT-3/'\n",
        "print(\"Path:{}\".format(PATH))"
      ],
      "metadata": {
        "colab": {
          "base_uri": "https://localhost:8080/"
        },
        "id": "biThCxPhrCry",
        "outputId": "788e7868-5b0b-435d-bb37-6a91fd8548f5"
      },
      "execution_count": 2,
      "outputs": [
        {
          "output_type": "stream",
          "name": "stdout",
          "text": [
            "Mounted at /content/drive/\n",
            "Path:/content/drive/MyDrive/Projects/GPT-3/\n"
          ]
        }
      ]
    },
    {
      "cell_type": "markdown",
      "source": [
        "**Load Environment Variables**"
      ],
      "metadata": {
        "id": "93HtPipsrG1h"
      }
    },
    {
      "cell_type": "code",
      "source": [
        "from os import environ\n",
        "from dotenv import load_dotenv\n",
        "load_dotenv(PATH+'.env')\n",
        "print(\"Env File to load:{}\".format(PATH+'.env'))"
      ],
      "metadata": {
        "colab": {
          "base_uri": "https://localhost:8080/"
        },
        "id": "BF4vyr6Auz3t",
        "outputId": "fa77926c-d1ff-4376-a526-075849493788"
      },
      "execution_count": 4,
      "outputs": [
        {
          "output_type": "stream",
          "name": "stdout",
          "text": [
            "Env File to load:/content/drive/MyDrive/Projects/GPT-3/.env\n"
          ]
        }
      ]
    },
    {
      "cell_type": "markdown",
      "source": [
        "# Experiment 1 : Summarize#"
      ],
      "metadata": {
        "id": "hQ-lQWoYjoI2"
      }
    },
    {
      "cell_type": "markdown",
      "source": [
        "**Test the OpenAI model for Summarize**"
      ],
      "metadata": {
        "id": "QCx-TWiZvfnI"
      }
    },
    {
      "cell_type": "code",
      "source": [
        "import os\n",
        "import openai\n",
        "\n",
        "openai.api_key = os.getenv(\"OPENAI_API_KEY\")\n",
        "\n",
        "response = openai.Completion.create(\n",
        "  engine=\"text-davinci-002\",\n",
        "  prompt = \"Summarize Business outlook for microstategy:\\n\\nCompany Name : MicroStrategy®.\\nItem 1. Business Overview MicroStrategy® pursues two corporate strategies in the operation of its business. One strategy is to grow our enterprise analytics software business and the other strategy is to acquire and hold bitcoin. MicroStrategy is a global leader in enterprise analytics software and services. Since our founding in 1989, MicroStrategy has been focused on empowering organizations to leverage the immense value of their data. Our vision is to enable Intelligence Everywhere™ by delivering world-class software and services that empower enterprise users with actionable intelligence. Our core offering is MicroStrategy 2021™, which delivers modern analytics on an open, comprehensive enterprise platform. In 2019, we introduced HyperIntelligence®, a breakthrough technology that overlays actionable enterprise data on popular business applications and workflows people rely on every day. Businesses can harness MicroStrategy’s innovative technology to make information and actions flow significantly faster so their workforce can make more informed decisions and take smarter actions. We also offer MicroStrategy Consulting™ and MicroStrategy Education™ to help customers deploy, optimize, and manage their analytics initiatives. We also pursue a business strategy of acquiring bitcoin when our cash, cash equivalents and short-term investments exceed current working capital requirements, and we may from time to time, subject to market conditions, issue debt or equity securities in capital raising transactions with the objective of using the proceeds to purchase bitcoin. We view our bitcoin holdings as long-term holdings and we do not plan to engage in regular trading of bitcoin or to hedge or otherwise enter into derivative contracts with respect to our bitcoin holdings, though we may sell bitcoin in future periods as needed to generate cash for treasury management and other general corporate purposes. We believe that bitcoin is attractive because it can serve as a store of value, supported by a robust and public open source architecture, that is untethered to sovereign monetary policy and can therefore serve as a hedge against inflation. We also believe that bitcoin offers additional opportunity for appreciation in value with increasing adoption due to its limited supply. In addition, we believe that our bitcoin strategy is complementary to our analytics software and services business, as we believe that our bitcoin and related activities in support of the bitcoin network enhance awareness of our brand and can provide opportunities to secure new customers for our analytics offerings. We are also exploring opportunities to apply bitcoin related technologies such as blockchain analytics into our software offerings. The MicroStrategy Software Platform Our core product offering is our software platform. In December 2020, we released MicroStrategy 2021, the newest release of our flagship enterprise analytics platform. MicroStrategy 2021 allows our customers to build high-performance, governed, and secure applications that can scale across their enterprises. Our platform is designed to empower the entire workforce with intelligence through the following differentiated features: • Modern Analytics: We offer a modern analytics experience by delivering insights across multiple devices to users via our HyperIntelligence products, visualization and reporting capabilities, mobility features, and custom applications developed on our platform. ○ HyperIntelligence - Our platform improves business processes by providing cards with contextual intelligence, suggestions, and workflows directly within the websites, applications, and mobile devices that people rely on every day. For example, users can simply hover over a highlighted word on a website to instantly bring up relevant, contextual insights on key data. ○ Data Visualization and Reporting - Our platform uses Dossier®, our self-service dashboarding tool, that provides users with the formatting, layout, and input controls they need to build beautiful analytics applications. ○ Transformational Mobility - Our platform empowers the increasingly mobile workforce to make decisions and take action quickly on-the-go. It delivers more ways for organizations to quickly deploy mobile productivity apps for a variety of business functions and roles on any standard device. ○ Custom Applications - Our platform enables users to create highly customized web and mobile applications using the Document tool. • Open, Federated Architecture: Our strategy is to embrace innovation and deliver the most open analytics platform on the market. ○ Federated Analytics - Our platform provides analysts and data scientists with seamless access to trusted, governed data directly within their favorite tools. MicroStrategy 2021 includes integrations with Microsoft Excel, Power BI, and Tableau to provide users with the flexibility to leverage trusted data from MicroStrategy directly within the client applications they are accustomed to. MicroStrategy 2021 also provides integrations for Jupyter and R Studio to enable data scientists to connect to published MicroStrategy data, leverage it in their tools, and publish updated data back into MicroStrategy 2021 - all without leaving Jupyter or R Studio. ○ APIs and Gateways - Our gateways, APIs, and connectors enable MicroStrategy 2021 to integrate with the most popular enterprise platforms and tools. In addition to over 200 connectors to popular drivers and gateways to enterprise assets, we offer a comprehensive set of Representational State Transfer (“REST”) APIs that makes it easy to embed the platform in packaged and custom applications, workflows, and devices. ○ Multiple Deployment Options - We also believe that customers should have the choice of where to deploy their analytics platform without compromising functionality. Our fully featured platform can be deployed in three ways: on premises, the customer’s cloud environment, or the MicroStrategy Cloud™ Environment (“MCE”). MCE is a cloud subscription service that allows customers to deploy the platform on Amazon Web Services (“AWS”) or Microsoft Azure environments hosted and managed by us. • Enterprise Platform: Our platform is designed to securely scale analytics across the enterprise. MicroStrategy 2021 has the tools that enable organizations to deliver secure, high-performance applications at scale. ○ Enterprise Semantic Graph™ - The engine of our platform is our proprietary Enterprise Semantic Graph, which provides a structured view of a company’s data assets by organizing them into understandable business terms. Our Enterprise Semantic Graph also enriches metadata content with real-time location intelligence and content and system usage telemetry. The Enterprise Semantic Graph allows users to have a consistent and secure view across multiple data sources to deliver a single version of truth. ○ Scalability - Our platform powers some of the largest business intelligence deployments in the world. Our platform is designed to scale efficiently to hundreds of thousands of users, with millions of personalized queries, across hundreds of applications, built on top of the largest datasets. ○ Security - Our platform includes a comprehensive set of features for superior administration, security, and architecture, including role-based access to both row and column data. We offer integrated digital identity solutions designed to deliver seamless, user-friendly authentication and real-time telemetry applications for location intelligence. MicroStrategy Services™ Through our MicroStrategy Support, MicroStrategy Consulting, and MicroStrategy Education services, we help customers better leverage our platform by offering a comprehensive set of innovative services to deploy, optimize, and maintain their business intelligence platform. MicroStrategy Support Our global network of MicroStrategy-certified support experts brings a wealth of experience and knowledge to help customers achieve their system availability and uptime goals and to improve the overall customer experience through highly responsive troubleshooting and proactive technical product support. Standard support is included in each customer’s maintenance plan. For additional services, customers can choose one of our three premium support options - extended support, premier support, or elite support. With these premium support options, customers can receive extended coverage and enhanced service at each touchpoint. MicroStrategy Consulting We believe our consulting services materially complement our software by increasing customer adoption and helping our customers achieve returns on investment derived from better understanding their data. Many companies want to better utilize their data to provide actionable insights but lack the internal expertise to define requirements and deliver solutions. MicroStrategy Consulting provides customers with architecture and implementation services to help them quickly realize results. Our consultants serve as critical resources for operations and maintenance and end-to-end, full-lifecycle projects that develop, deploy, and operate our customers’ business intelligence environments. With thousands of successful projects delivered to customers worldwide spanning all major industries, our consultants apply industry best practices to guide our customers in defining, developing, and delivering business analytics solutions. MicroStrategy Consulting operates worldwide across North America, Latin America, South America, Europe, the Middle East, Africa, and the Asia Pacific region, with consultants from our local offices and our Global Delivery Center™ in Warsaw, Poland. MicroStrategy Education We believe the path to the Intelligent Enterprise™ involves skill-specific paths of learning. To help organizations maximize the utility, adoption, and performance of their MicroStrategy deployments, MicroStrategy Education offers free and paid learning options. MicroStrategy Education is available worldwide in multiple languages and a variety of formats. Analytics Software and Services Strategy Sales and Services MicroStrategy sells its platform in two basic ways. The first way is to sell product licenses to customers for them to deploy the platform on their infrastructure either on premises or in the customer’s cloud environment. The second way is to sell customers MCE, a cloud subscription service, so they can access our software in a cloud environment that is hosted and managed by us. In November 2020, we also introduced a new HyperIntelligence cloud subscription service offering, called Hyper.Now™. Hyper.Now allows anybody to launch a HyperIntelligence environment, hosted by MicroStrategy, directly from our website. Revenues from product license sales comprise product licenses revenues, and revenues from cloud subscriptions comprise subscription services revenues. Currently, the vast majority of our product sales are license sales. MicroStrategy sells through our dedicated enterprise sales force and channel partners to increase market coverage in both domestic and international markets. We provide financial incentives for our channel partners to market and distribute our offerings. In addition, we offer a wide range of services that provide support in the discovery, planning, development, and deployment stages of a MicroStrategy offering. Dedicated Sales Force We market our offerings chiefly through our direct sales force. We have sales offices in locations throughout the world and use channel partners in several countries where we do not have sales offices. Channel Partners We have established strategic alliances with third-party vendors to help ensure the success of our customers’ enterprise intelligence initiatives. Our channel partners are system integrators, consulting firms, resellers, solution providers, managed service providers, original equipment manufacturers (“OEMs”), and technology companies. These firms utilize the MicroStrategy platform for a variety of commercial purposes, and our agreements with them generally provide non-exclusive rights to market our offerings and allow access to our marketing materials, product training, and direct sales force for field-level assistance. We make significant commitments to our channel partners, including technical training, certifications, pre-sales and sales enablement, and marketing programs. Through our joint efforts, we believe customers are able to minimize their risk and maximize the return on their business intelligence projects. Our channel partners allow us to leverage sales and service resources and marketing and industry-specific expertise to expand our user base and increase our market coverage. Marketing Our marketing programs target the following principal constituencies: • our historical base of enterprise-wide operational and technology executives and departmental buyers across large global enterprises; • corporate and departmental technology buyers in mid-sized enterprises; • government technology buyers and the vendors to the government community; • independent software vendors that want to embed our technology tools in their solutions; and • system integrators that have technology relationships with large enterprises, governments, and information-intensive businesses. We continually seek to increase our brand awareness by focusing our messaging on the possibilities for value creation, the benefits of using our platform, and competitive differentiators. The channels we use to communicate with these constituencies include digital and social media, advertising, free and evaluation software, events, media coverage, channel partners, and word-of-mouth and peer references. Customers Our customers include leading companies from a wide range of industries, including retail, consulting, technology, manufacturing, banking, insurance, finance, healthcare, telecommunications, as well as the public sector. Competition The analytics market is highly competitive and subject to rapidly changing technology. Within the analytics space, we compete with many different software vendors, including IBM, Microsoft, Oracle, Qlik, Salesforce, and SAP. Our future success depends on our ability to differentiate our offerings and successfully compete across analytics implementation projects of varying sizes. Our ability to compete successfully depends on a number of factors, both within and outside of our control. Some of these factors include software deployment options; analytical, mobility, data discovery, and visualization capabilities; performance and scalability; the quality and reliability of our customer service and support; and brand recognition. Failure to compete successfully in any one of these or other areas may reduce the demand for our offerings and materially adversely affect our revenue from both existing and prospective customers. Key Differentiators • A comprehensive, modern, and open enterprise analytics and mobility platform uniquely featuring HyperIntelligence, transformational mobility, and federated analytics. • Our exclusive and patented HyperIntelligence capabilities that inject contextual analytics into existing tools, websites, and online workflows. • Our proprietary Enterprise Semantic Graph. • Over 200 connectors to popular drivers and gateways to enterprise assets. • A comprehensive set of REST APIs that makes it easy to embed the platform in packaged and custom applications, workflows, and devices. • Flexible deployment methods that allow our customers to deploy our platform efficiently and securely using their own hardware or in a cloud environment they manage or via the MCE, our cloud subscription service. • Comprehensive platform administration, security, and architecture, including role-based access to both row and column data. • A platform that is designed to scale with large datasets and deliver rapid response times. Government Regulation Aspects of our business involve collecting, processing, disclosing, storing, and transmitting personal data, which are subject to certain privacy policies, contractual obligations, and U.S. and foreign laws, regulations, and directives relating to privacy and data protection. We store a substantial amount of customer and employee data, including personal data, on our networks and other systems and the cloud environments we manage. In addition, the types of data subject to protection as personal data in the European Union, the United States, and elsewhere have been expanding. In recent years, the collection and use of personal data by companies have come under increased regulatory and public scrutiny, especially in relation to the collection and processing of sensitive data, such as healthcare, biometric, genetic, financial services, and children’s data, precise location data, and data regarding a person’s race or ethnic origins, political opinions, or religious beliefs. For example, in the United States, protected health information is subject to the Health Insurance Portability and Accountability Act of 1996 (“HIPAA”), which can provide for civil and criminal penalties for noncompliance. Entities (such as us) that engage in creating, receiving, maintaining, or transmitting protected health information provided by covered entities and other business associates are subject to enforcement under HIPAA. Our access to protected health information triggers obligations to comply with certain privacy rules and data security requirements under HIPAA. In the European Union, the General Data Protection Regulation (“GDPR”) imposes requirements regarding the handling and security of personal data, requires disclosure of data breaches to individuals, customers, and data protection authorities in certain circumstances, requires companies to honor data subjects’ requests relating to their personal data, permits regulators to impose fines of up to €20,000,000 or 4% of global annual revenue, whichever is higher, and establishes a private right of action. Furthermore, a new ePrivacy Regulation, regulating electronic communications, was proposed in 2017 and is under consideration by the European Commission, the European Parliament, and the European Council. More recently, the Court of Justice of the European Union (“CJEU”) invalidated the U.S.-EU Privacy Shield in July 2020. The U.S.-EU Privacy Shield provided a mechanism to lawfully transfer personal data from the European Union to the United States and certain other countries. In the wake of the invalidation of the U.S.-EU Privacy Shield, we have transitioned to reliance on the EU Standard Contractual Clauses (“SCCs”) to lawfully transfer certain personal data from the European Union to the United States. The rules involving this alternative data transfer option are also undergoing revision and this transfer mechanism may also be declared invalid (or require us to change our business practices) in the future, requiring us to provide an alternative means of data transfer. Brazil also enacted the Lei Geral de Proteção de Dados (the Brazilian General Data Protection Law), which became effective in August 2020 and imposes requirements largely similar to GDPR on products and services offered to users in Brazil. We may also be subject in China to the Cybersecurity Law that went into effect in June 2017 and a revision of the Personal Information Security Specification that went into effect in October 2020, which have uncertain but broad application and impose a number of new privacy and data security obligations. China is also considering new legislation on the protection of privacy and personal data, including a Personal Information Protection Law and a Data Security Law that may impose new obligations on us. Other countries are considering new or expanded laws governing privacy and data security that may impact our business practices. \",\n",
        "    temperature=0.7,\n",
        "  max_tokens=64,\n",
        "  top_p=1.0,\n",
        "  frequency_penalty=0.0,\n",
        "  presence_penalty=0.0\n",
        ")\n",
        "\n",
        "print (\"response:{}\".format(response))\n",
        "\n",
        "response = openai.Completion.create(\n",
        "  engine=\"text-davinci-002\",\n",
        "  prompt=\"The state of California has also adopted a new comprehensive privacy law, the California Consumer Privacy Act (“CCPA”), which took effect in January 2020 and became enforceable in July 2020. We may be required to devote substantial resources to implement and maintain compliance with the CCPA, and noncompliance could result in regulatory investigations and fines or private litigation. Moreover, in November 2020, California voters approved a new privacy law, the California Privacy Rights Act (“CPRA”), which amends the CCPA to create new privacy rights and obligations in California. Several other states are also considering bills similar to the CCPA or other generally applicable privacy laws that may impose additional costs and obligations on us. Furthermore, the U.S. Congress is considering comprehensive privacy legislation. At this time, it is unclear whether Congress will pass such a law and if so, when and what it will require and prohibit. Moreover, it is not clear whether any such legislation would give the Federal Trade Commission (“FTC”) any new authority to impose civil penalties for violations of the Federal Trade Commission Act in the first instance, whether Congress will grant the FTC rulemaking authority over privacy and information security, or whether Congress will vest some or all privacy and data security regulatory authority and enforcement power in a new agency, akin to EU data protection authorities. Bitcoin Acquisition Strategy In September 2020, our Board of Directors adopted a Treasury Reserve Policy (as amended to date, the “Treasury Reserve Policy”) that updated our treasury management and capital allocation strategies, under which our treasury reserve assets will consist of: • cash and cash equivalents and short-term investments (“Cash Assets”) held by us that exceed working capital requirements; and • bitcoin held by us, with bitcoin serving as the primary treasury reserve asset on an ongoing basis, subject to market conditions and anticipated needs of the business for Cash Assets. As part of these treasury management and capital allocation strategies, we purchased a total of approximately 70,469 bitcoin at an aggregate purchase price of approximately $1.125 billion in 2020 for an average purchase price of approximately $15,964 per bitcoin, inclusive of fees and expenses. These purchases included purchases of bitcoin using the net proceeds of our issuance of $650.0 million aggregate principal amount of 0.750% Convertible Senior Notes due 2025 in the fourth quarter of 2020. In 2021, we determined to adopt, in addition to and in conjunction with our Treasury Reserve Policy, a business strategy of purchasing bitcoin, and we may from time to time, subject to market conditions, issue debt or equity securities in capital raising transactions with the objective of using the proceeds to purchase bitcoin. Under this business strategy we also periodically engage in activities to educate the market regarding bitcoin. We believe that our bitcoin strategy is complementary to our analytics software and services business, as we believe that our bitcoin and related activities in support of the bitcoin network enhance awareness of our brand and can provide opportunities to secure new customers for our analytics offerings. We are also exploring opportunities to apply bitcoin related technologies such as blockchain analytics into our software offerings. We view our bitcoin holdings as long-term holdings and we do not plan to engage in regular trading of bitcoin or to hedge or otherwise enter into derivative contracts with respect to our bitcoin holdings, though we may sell bitcoins in future periods as needed to generate cash for treasury management and other general corporate purposes. We have not targeted any specific amount of bitcoin holdings, and we will continue to monitor market conditions in determining whether to conduct debt or equity financings to purchase additional bitcoin. As of February 8, 2021, we held approximately 71,079 bitcoin that were acquired at an aggregate purchase price of $1.145 billion and an average purchase price of approximately $16,109 per bitcoin, inclusive of fees and expenses. Overview of Bitcoin Bitcoin is a digital asset that is issued by and transmitted through an open source protocol collectively maintained by a peer-to-peer network of decentralized user nodes. This network hosts a public transaction ledger, known as the bitcoin blockchain, on which bitcoin holdings and transactions in bitcoin are recorded. Balances of bitcoin are stored in individual “wallet” functions, which associate network public addresses with a “private key” that controls the transfer of bitcoin. The bitcoin blockchain can be updated without any single entity owning or operating the network. New bitcoin is created and allocated by the protocol that governs bitcoin through a “mining” process that rewards users that verify transactions in the bitcoin blockchain. The bitcoin protocol limits the total issuance of bitcoin over time to 21 million. Bitcoin can be used to pay for goods and services, or it can be converted to fiat currencies, such as the U.S. dollar, at rates of exchange determined by market forces on bitcoin trading platforms, which operate 24-hours-a-day, 7-days-a-week and are not regulated in as comprehensive a manner as traditional securities exchanges. As a result, trading on these markets is likely more subject to manipulation than on securities markets regulated by the SEC, and pricing on these markets is likely affected by such manipulative activity. In addition to these platforms, over-the-counter markets and derivatives markets for bitcoin also exist; however, these markets are still maturing and many are unregulated. Potential Advantages and Disadvantages of Holding Bitcoin We believe that bitcoin is attractive because it can serve as a store of value, supported by a robust and public open source architecture, that is untethered to sovereign monetary policy and can therefore serve as a hedge against inflation. Bitcoin exists entirely in electronic form, as virtually irreversible public transaction ledger entries on the blockchain, and transactions in bitcoin are recorded and authenticated not by a central repository, but by a decentralized peer-to-peer network. This decentralization avoids certain threats common to centralized computer networks, such as denial of service attacks, and reduces the dependency of the bitcoin network on any single system. While the bitcoin network as a whole is decentralized, the private keys used to access bitcoin balances are not widely distributed and are held on hardware (which can be physically controlled by the holder or by a third party such as a custodian) or via software programs on third-party servers and loss of such private keys results in an inability to access, and effective loss of, the corresponding bitcoin. Consequently, bitcoin holdings are susceptible to all of the risks inherent in holding any electronic data, such as power failure, data corruption, security breach, communication failure, and user error, among others. These risks, in turn, make bitcoin subject to theft, destruction, or loss of value from hackers, corruption, or technology-specific factors such as viruses that do not affect conventional fiat currency. In addition, the bitcoin network relies on open source developers to maintain and improve the bitcoin protocol. Accordingly, bitcoin may be subject to protocol design changes, governance disputes such as “forked” protocols, competing protocols, and other open source-specific risks that do not affect conventional proprietary software. We believe that in the context of the economic and public health crisis precipitated by COVID-19 and the unprecedented government financial stimulus measures adopted around the world, decreasing interest rates, as well as the breakdown of trust in and between political institutions and political parties in the United States and globally, bitcoin represents a more attractive store of value than fiat currency, and further that opportunity for appreciation in the value of bitcoin exists in the event that such factors lead to even more widespread adoption of bitcoin as a treasury reserve alternative. Government Regulation Activities involving bitcoin and other digital assets may fall within the jurisdiction of more than one financial regulator and are subject to U.S. federal, state and local laws, as well as laws of foreign jurisdictions where applicable. Businesses that are engaged in the transmission and custody of bitcoin and other digital assets, including brokers and custodians, can be subject to U.S. Treasury Department regulations as money services businesses as well as state money transmitter licensing requirements. Bitcoin and other digital assets are subject to anti-fraud regulations under federal and state commodity laws, and digital asset derivative instruments are substantively regulated by the U.S. Commodity Futures Trading Commission. Certain jurisdictions, including, among others, New York and a number of countries outside the United States, have developed regulatory requirements specifically for digital assets and companies that transact in them. In addition, since transactions in bitcoin provide a reasonable degree of pseudo anonymity, they are susceptible to misuse for criminal activities, such as money laundering. This misuse, or the perception of such misuse (even if untrue), could lead to greater regulatory oversight of bitcoin platforms, and there is the possibility that law enforcement agencies could close bitcoin platforms or other bitcoin-related infrastructure with little or no notice and prevent users from accessing or retrieving bitcoin held via such platforms or infrastructure. For example, in her January 2021 nomination hearing before the Senate Finance Committee, Treasury Secretary Janet Yellen noted that cryptocurrencies have the potential to improve the efficiency of the financial system but that they can be used to finance terrorism, facilitate money laundering, and support malign activities that threaten U.S. national security interests and the integrity of the U.S. and international financial systems. Accordingly, Secretary Yellen expressed her view that federal regulators needed to look closely at how to encourage the use of cryptocurrencies for legitimate activities while curtailing their use for malign and illegal activities. Furthermore, in December 2020, the Financial Crimes Enforcement Network (“FinCEN”), a unit of the Treasury Department focused on money laundering, proposed a new set of rules for cryptocurrency-based exchanges aimed at reducing the use of cryptocurrencies for money laundering. These proposed rules would require filing reports with FinCEN regarding cryptocurrency transactions in excess of $10,000 and also impose record-keeping requirements for cryptocurrency transactions in excess of $3,000 involving users who manage their own private keys. In January 2021, the Biden Administration issued a memorandum freezing federal rulemaking, including these proposed FinCEN rules, to provide additional time for the Biden Administration to review the rulemaking that had been proposed by the Trump Administration. As a result, it remains unclear whether these proposed rules will take effect. Our Bitcoin Holdings At December 31, 2020, we carried $1.054 billion of digital assets on our balance sheet, consisting of the approximately 70,469 bitcoins and reflecting $70.7 million in cumulative impairment losses attributable to bitcoin trading price fluctuations, and held $59.7 million in cash and cash equivalents, compared to no digital assets and $456.7 million in cash and cash equivalents at December 31, 2019, reflecting the shift in our liquid asset holdings following the adoption of our new Treasury Reserve Policy. As of February 8, 2021, we held approximately 71,079 bitcoins that were acquired at an aggregate purchase price of $1.145 billion and an average purchase price of approximately $16,109 per bitcoin, inclusive of fees and expenses. We expect to purchase additional bitcoin in future periods, though we may also sell bitcoin in future periods as needed to generate Cash Assets for treasury management purposes. Employees As of December 31, 2020, we had a total of 1,997 employees, of whom 818 were based in the United States and 1,179 were based internationally. None of our employees in the United States is represented by a labor union; however, in certain foreign subsidiaries, some employees are members of trade or local unions. In France, our employees are represented by a works council as required by local law. We have not experienced any work stoppages and consider our relations with our employees to be good. The following table summarizes employee headcount as of the dates indicated: December 31, December 31, December 31, Subscription services Product support Consulting Education Sales and marketing Research and development General and administrative Total headcount 1,997 2,396 2,528 We recognize and value the contribution of all our employees. Due to their dedication, hard work, loyalty, and commitment, we have had continued success as a company. Our philosophy is to create an agile, evolving environment that allows all of our employees to grow and thrive, with initiatives and platforms that reward and recognize employees for their hard work and commitment to delivering personal excellence and creativity at MicroStrategy. Our human capital management objectives are to attract, retain, and develop leading talent to deliver on our business strategies. To accomplish these objectives, we constantly strive to understand the drivers of attraction, retention, and sustainable engagement with our employees in each of the geographies in which we operate. As part of this process, we regularly benchmark our employee offerings within our industry and local markets to provide a competitive advantage in aligning our core benefits while meeting employee local needs. In addition, we pride ourselves on preparing a highly skilled workforce through technical boot camps, regular training workshops, and a variety of other learning experiences. Our initiative-driven teams work with a modern technology stack, and they meet and learn from some of the most experienced innovators in their field. Through these efforts we seek to create an environment in which our employees can flourish, respond quickly to client demand and enhance their connections with colleagues and towards the communities they are a part of globally. Available Information Our website is located at www.microstrategy.com. We make available free of charge, on or through the Investor Relations section of our website (http://ir.microstrategy.com), our annual reports on Form 10-K, quarterly reports on Form 10-Q, current reports on Form 8-K, and all amendments to those reports, as soon as reasonably practicable after electronically filing such reports with the Securities and Exchange Commission (“SEC”). Information found on our website is not part of this Annual Report or any other report filed with the SEC. The SEC maintains an Internet site that contains reports, proxy and information statements, and other information regarding issuers, including us, that file electronically with the SEC at www.sec.gov.\",\n",
        "    temperature=0.7,\n",
        "  max_tokens=64,\n",
        "  top_p=1.0,\n",
        "  frequency_penalty=0.0,\n",
        "  presence_penalty=0.0\n",
        ")\n",
        "\n",
        "\n",
        "print (\"response:{}\".format(response))\n"
      ],
      "metadata": {
        "id": "7B63SIMAlOu-",
        "colab": {
          "base_uri": "https://localhost:8080/"
        },
        "outputId": "ccb30b7c-0639-4586-89c6-23cf1aee56dd"
      },
      "execution_count": 10,
      "outputs": [
        {
          "output_type": "stream",
          "name": "stdout",
          "text": [
            "response:{\n",
            "  \"choices\": [\n",
            "    {\n",
            "      \"finish_reason\": \"length\",\n",
            "      \"index\": 0,\n",
            "      \"logprobs\": null,\n",
            "      \"text\": \"\\n\\nMicroStrategy is a global leader in enterprise analytics software and services. The company has two main focuses: growing its enterprise analytics software business and acquiring and holding bitcoin. MicroStrategy pursues a business strategy of acquiring bitcoin when cash, cash equivalents, and short-term investments exceed current working capital requirements. The\"\n",
            "    }\n",
            "  ],\n",
            "  \"created\": 1650972603,\n",
            "  \"id\": \"cmpl-51DgJauu1fNrixt9vIFCnH6iyHQmO\",\n",
            "  \"model\": \"text-davinci:002\",\n",
            "  \"object\": \"text_completion\"\n",
            "}\n",
            "response:{\n",
            "  \"choices\": [\n",
            "    {\n",
            "      \"finish_reason\": \"length\",\n",
            "      \"index\": 0,\n",
            "      \"logprobs\": null,\n",
            "      \"text\": \" In addition, our Report on Form 10-K, quarterly reports on Form 10-Q, current reports on Form 8-K and amendments toThose reports, as well as other filings we make with the SEC, are also available on the Investor Relations section of our website. Anyone may read and copy any materials filed by\"\n",
            "    }\n",
            "  ],\n",
            "  \"created\": 1650972605,\n",
            "  \"id\": \"cmpl-51DgLyvSyppvXwKKqdBm2CIuDS1Od\",\n",
            "  \"model\": \"text-davinci:002\",\n",
            "  \"object\": \"text_completion\"\n",
            "}\n"
          ]
        }
      ]
    }
  ]
}